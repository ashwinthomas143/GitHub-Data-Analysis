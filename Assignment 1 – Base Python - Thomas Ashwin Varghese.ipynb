{
 "cells": [
  {
   "cell_type": "markdown",
   "id": "286c5ead",
   "metadata": {},
   "source": [
    "# Assignment 1 – Base Python - Thomas Ashwin Varghese"
   ]
  },
  {
   "cell_type": "markdown",
   "id": "27c834a3",
   "metadata": {},
   "source": [
    "### 1.Write a program in Python to find greatest among three integers which are 5 digits?"
   ]
  },
  {
   "cell_type": "code",
   "execution_count": 1,
   "id": "de182bc3",
   "metadata": {},
   "outputs": [
    {
     "name": "stdout",
     "output_type": "stream",
     "text": [
      "Please enter 3 numbers, each of which should have at least 5 digits.\n",
      "Please enter the first number: 13233\n",
      "Please enter the second number: 45646\n",
      "Please enter the third number: 6456465\n",
      "The number 6456465 is the greatest among the three.\n"
     ]
    }
   ],
   "source": [
    "def greatest_of_three(number1, number2, number3):\n",
    "    number_1 = int(number1)\n",
    "    number_2 = int(number2)\n",
    "    number_3 = int(number3)\n",
    "\n",
    "    num1_digits = len(str(number_1))\n",
    "    num2_digits = len(str(number_2))\n",
    "    num3_digits = len(str(number_3))\n",
    "\n",
    "    if num1_digits < 5 or num2_digits < 5 or num3_digits < 5:\n",
    "        print(\"Please start the program again and enter correct inputs.\")\n",
    "        return\n",
    "\n",
    "    if not all(isinstance(num, int) for num in [number_1, number_2, number_3]):\n",
    "        print(\"Please enter integers as input.\")\n",
    "        return\n",
    "\n",
    "    if number_1 > number_2 and number_1 > number_3:\n",
    "        print(f\"The number {number_1} is the greatest among the three.\")\n",
    "    elif number_2 > number_1 and number_2 > number_3:\n",
    "        print(f\"The number {number_2} is the greatest among the three.\")\n",
    "    else:\n",
    "        print(f\"The number {number_3} is the greatest among the three.\")\n",
    "\n",
    "print(\"Please enter 3 numbers, each of which should have at least 5 digits.\")\n",
    "\n",
    "num1 = input(\"Please enter the first number: \")\n",
    "num2 = input(\"Please enter the second number: \")\n",
    "num3 = input(\"Please enter the third number: \")\n",
    "\n",
    "greatest_of_three(num1, num2, num3)\n"
   ]
  },
  {
   "cell_type": "markdown",
   "id": "02bcdd56",
   "metadata": {},
   "source": [
    "### 2.Python Program to check a given number is even or odd."
   ]
  },
  {
   "cell_type": "code",
   "execution_count": 2,
   "id": "8dfd80cb",
   "metadata": {},
   "outputs": [
    {
     "name": "stdout",
     "output_type": "stream",
     "text": [
      "Please enter a whole number: 5656\n",
      "The number 5656 is even.\n"
     ]
    }
   ],
   "source": [
    "number1 = input(\"Please enter a whole number: \")\n",
    "\n",
    "if int(number1) % 2 == 0:\n",
    "    print(f\"The number {number1} is even.\")\n",
    "else:\n",
    "    print(f\"The number {number1} is odd.\")\n"
   ]
  },
  {
   "cell_type": "markdown",
   "id": "d6be7c0f",
   "metadata": {},
   "source": [
    "### 3.Python Program to calculate the square root of a given number."
   ]
  },
  {
   "cell_type": "code",
   "execution_count": 3,
   "id": "cf841183",
   "metadata": {},
   "outputs": [
    {
     "name": "stdout",
     "output_type": "stream",
     "text": [
      "Please enter a number: 64\n",
      "The square root of 64 is 8.0.\n"
     ]
    }
   ],
   "source": [
    "import math\n",
    "\n",
    "number1 = input(\"Please enter a number: \")\n",
    "square_root = math.sqrt(int(number1))\n",
    "\n",
    "print(f\"The square root of {number1} is {square_root}.\")\n"
   ]
  },
  {
   "cell_type": "markdown",
   "id": "27aa83f0",
   "metadata": {},
   "source": [
    "### 4.Python Program to check the given year is a leap year or not."
   ]
  },
  {
   "cell_type": "code",
   "execution_count": 4,
   "id": "b332506a",
   "metadata": {},
   "outputs": [
    {
     "data": {
      "text/plain": [
       "True"
      ]
     },
     "execution_count": 4,
     "metadata": {},
     "output_type": "execute_result"
    }
   ],
   "source": [
    "def is_leap_year(year):\n",
    "    if (year % 4 == 0) and ((year % 100 != 0) or (year % 400 == 0)):\n",
    "        return True\n",
    "    else:\n",
    "        return False\n",
    "    \n",
    "is_leap_year(2024)"
   ]
  },
  {
   "cell_type": "markdown",
   "id": "6c1dd36a",
   "metadata": {},
   "source": [
    "### 5.Python program to calculate Simple Interest & Compound Interest"
   ]
  },
  {
   "cell_type": "code",
   "execution_count": 5,
   "id": "d5cd1673",
   "metadata": {},
   "outputs": [
    {
     "name": "stdout",
     "output_type": "stream",
     "text": [
      "Please select if you want to calculate simple or compound interest.\n",
      "Please input the interest type: Simple OR Compound.\n",
      "Compound\n",
      "Please enter the principal amount that the user wants to borrow.\n",
      "100\n",
      "Please enter the interest rate.\n",
      "10\n",
      "Please enter the number of time periods you want the interest for.\n",
      "10\n",
      "The compound interest for a principal amount of 100 $, an interest rate of 10 and a time period of 10 is 259.3742460100002 $.\n"
     ]
    }
   ],
   "source": [
    "def interest_calculation(interest_type, principal, interest_rate, interest_time_period):\n",
    "    if interest_type == \"Simple\":\n",
    "        simple_interest = float(principal) * float(interest_rate) * float(interest_time_period) / 100\n",
    "        print(f\"The simple interest for a principal amount of {principal} $, an interest rate of {interest_rate} and a time period of {interest_time_period} is $ {simple_interest}.\")\n",
    "    elif interest_type == \"Compound\":\n",
    "        compound_interest = float(principal) * (1 + float(interest_rate) / 100) ** float(interest_time_period)\n",
    "        print(f\"The compound interest for a principal amount of {principal} $, an interest rate of {interest_rate} and a time period of {interest_time_period} is {compound_interest} $.\")\n",
    "    else:\n",
    "        print(\"Please print the type of interest you want: Simple or Compound\")\n",
    "\n",
    "print(\"Please select if you want to calculate simple or compound interest.\")\n",
    "\n",
    "interest_type = input(\"Please input the interest type: Simple OR Compound.\\n\")\n",
    "principal = input(\"Please enter the principal amount that the user wants to borrow.\\n\")\n",
    "interest_rate = input(\"Please enter the interest rate.\\n\")\n",
    "interest_time_period = input(\"Please enter the number of time periods you want the interest for.\\n\")\n",
    "\n",
    "interest_calculation(interest_type, principal, interest_rate, interest_time_period)"
   ]
  },
  {
   "cell_type": "markdown",
   "id": "0d3b3f34",
   "metadata": {},
   "source": [
    "### 6.Python Program to convert Fahrenheit to Celsius."
   ]
  },
  {
   "cell_type": "code",
   "execution_count": 6,
   "id": "7e4f2223",
   "metadata": {},
   "outputs": [
    {
     "name": "stdout",
     "output_type": "stream",
     "text": [
      "68 degrees Fahrenheit is equal to 20.0 degrees Celsius.\n"
     ]
    }
   ],
   "source": [
    "def fahrenheit_to_celsius(fahrenheit):\n",
    "    celsius = (fahrenheit - 32) * 5 / 9\n",
    "    return celsius\n",
    "\n",
    "fahrenheit = 68\n",
    "celsius = fahrenheit_to_celsius(fahrenheit)\n",
    "print(f\"{fahrenheit} degrees Fahrenheit is equal to {celsius} degrees Celsius.\")\n"
   ]
  },
  {
   "cell_type": "markdown",
   "id": "868ef09f",
   "metadata": {},
   "source": [
    "### 7.Python Program for Sum of squares of first 5 natural numbers"
   ]
  },
  {
   "cell_type": "code",
   "execution_count": 7,
   "id": "0aaeff01",
   "metadata": {},
   "outputs": [
    {
     "name": "stdout",
     "output_type": "stream",
     "text": [
      "55\n"
     ]
    }
   ],
   "source": [
    "sum = 0\n",
    "\n",
    "for num in range(6):\n",
    "    sum = sum + num ** 2\n",
    "\n",
    "print(sum)"
   ]
  }
 ],
 "metadata": {
  "kernelspec": {
   "display_name": "Python 3 (ipykernel)",
   "language": "python",
   "name": "python3"
  },
  "language_info": {
   "codemirror_mode": {
    "name": "ipython",
    "version": 3
   },
   "file_extension": ".py",
   "mimetype": "text/x-python",
   "name": "python",
   "nbconvert_exporter": "python",
   "pygments_lexer": "ipython3",
   "version": "3.10.11"
  }
 },
 "nbformat": 4,
 "nbformat_minor": 5
}
