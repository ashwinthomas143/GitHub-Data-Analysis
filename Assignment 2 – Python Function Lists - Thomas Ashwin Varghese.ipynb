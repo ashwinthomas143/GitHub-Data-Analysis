{
 "cells": [
  {
   "cell_type": "markdown",
   "id": "11010eec",
   "metadata": {},
   "source": [
    "# Assignment 2 – Python Function Lists - Thomas Ashwin Varghese"
   ]
  },
  {
   "cell_type": "markdown",
   "id": "ede5fbc7",
   "metadata": {},
   "source": [
    "### 1.Write a program in Python to print all prime numbers between any 2 user specified numbers?"
   ]
  },
  {
   "cell_type": "code",
   "execution_count": 1,
   "id": "08ab8b56",
   "metadata": {},
   "outputs": [
    {
     "name": "stdout",
     "output_type": "stream",
     "text": [
      "Please enter the start number: 10\n",
      "Please enter the end number: 20\n",
      "10 is not a prime number.\n",
      "11 is a prime number.\n",
      "12 is not a prime number.\n",
      "13 is a prime number.\n",
      "14 is not a prime number.\n",
      "15 is not a prime number.\n",
      "16 is not a prime number.\n",
      "17 is a prime number.\n",
      "18 is not a prime number.\n",
      "19 is a prime number.\n"
     ]
    }
   ],
   "source": [
    "from sympy import isprime\n",
    "\n",
    "start_number = int(input(\"Please enter the start number: \"))\n",
    "end_number = int(input(\"Please enter the end number: \"))\n",
    "\n",
    "for number in range(start_number, end_number):\n",
    "    if isprime(number) == True:\n",
    "        print(f\"{number} is a prime number.\")\n",
    "    else:\n",
    "        print(f\"{number} is not a prime number.\")\n"
   ]
  },
  {
   "cell_type": "markdown",
   "id": "e3457566",
   "metadata": {},
   "source": [
    "### 2.Reverse A List of Strings ['Paul', 'Jane', 'Sandra', 'Gemma', 'Hannah', 'Anne']"
   ]
  },
  {
   "cell_type": "code",
   "execution_count": 2,
   "id": "482a2eaa",
   "metadata": {},
   "outputs": [
    {
     "data": {
      "text/plain": [
       "['Sandra', 'Paul', 'Jane', 'Hannah', 'Gemma', 'Anne']"
      ]
     },
     "execution_count": 2,
     "metadata": {},
     "output_type": "execute_result"
    }
   ],
   "source": [
    "name_list = ['Paul', 'Jane', 'Sandra', 'Gemma', 'Hannah', 'Anne']\n",
    "name_list.sort(reverse = True)\n",
    "name_list"
   ]
  },
  {
   "cell_type": "markdown",
   "id": "e9e1b8a6",
   "metadata": {},
   "source": [
    "### 3.Reverse A String of your choice."
   ]
  },
  {
   "cell_type": "code",
   "execution_count": 3,
   "id": "63290eee",
   "metadata": {},
   "outputs": [
    {
     "name": "stdout",
     "output_type": "stream",
     "text": [
      "This is the original string : Hello, I'm Thomas.\n",
      "This is the reversed string : .samohT m'I ,olleH\n"
     ]
    }
   ],
   "source": [
    "string = \"Hello, I'm Thomas.\"\n",
    "print(f\"This is the original string : {string}\")\n",
    "reversed_string = string[::-1]\n",
    "print(f\"This is the reversed string : {reversed_string}\")\n"
   ]
  },
  {
   "cell_type": "markdown",
   "id": "d058f589",
   "metadata": {},
   "source": [
    "### 4.Loop through a string and print each letter on a new line."
   ]
  },
  {
   "cell_type": "code",
   "execution_count": 4,
   "id": "04396364",
   "metadata": {},
   "outputs": [
    {
     "name": "stdout",
     "output_type": "stream",
     "text": [
      "This is the original string : Hello, I'm Thomas.\n",
      "This is the string listed one character at a time :\n",
      "H \n",
      "\n",
      "e \n",
      "\n",
      "l \n",
      "\n",
      "l \n",
      "\n",
      "o \n",
      "\n",
      ", \n",
      "\n",
      "  \n",
      "\n",
      "I \n",
      "\n",
      "' \n",
      "\n",
      "m \n",
      "\n",
      "  \n",
      "\n",
      "T \n",
      "\n",
      "h \n",
      "\n",
      "o \n",
      "\n",
      "m \n",
      "\n",
      "a \n",
      "\n",
      "s \n",
      "\n",
      ". \n",
      "\n"
     ]
    }
   ],
   "source": [
    "string = \"Hello, I'm Thomas.\"\n",
    "\n",
    "print(f\"This is the original string : {string}\")\n",
    "\n",
    "print(f\"This is the string listed one character at a time :\")\n",
    "\n",
    "\n",
    "for character in range(len(string)):\n",
    "    print(f\"{string[character]} \\n\")\n"
   ]
  },
  {
   "cell_type": "markdown",
   "id": "584628a3",
   "metadata": {},
   "source": [
    "### 5.Find The Length of a String"
   ]
  },
  {
   "cell_type": "code",
   "execution_count": 5,
   "id": "9180e8d5",
   "metadata": {},
   "outputs": [
    {
     "name": "stdout",
     "output_type": "stream",
     "text": [
      "This is the original string : Hello, I'm Thomas.\n",
      "This is the length of the above string : 18\n"
     ]
    }
   ],
   "source": [
    "string = \"Hello, I'm Thomas.\"\n",
    "\n",
    "print(f\"This is the original string : {string}\")\n",
    "\n",
    "string_length = (len(string))\n",
    "\n",
    "print(f\"This is the length of the above string : {string_length}\")\n",
    "\n"
   ]
  },
  {
   "cell_type": "markdown",
   "id": "39f95912",
   "metadata": {},
   "source": [
    "### 6.Check if a string contains a specific substring."
   ]
  },
  {
   "cell_type": "code",
   "execution_count": 6,
   "id": "6073a5a6",
   "metadata": {},
   "outputs": [
    {
     "name": "stdout",
     "output_type": "stream",
     "text": [
      "This is the sentence entered : Hello, I'm Thomas.\n",
      "This is the string required in the above sentence : Thomas\n",
      "The string required is at the following position : 11\n",
      "The required string, Thomas, is to be found in the above sentence :\n",
      "Hello, I'm Thomas.\n",
      "The required string, Thomas, is to be found in the following position in the above sentence : 11.\n",
      "The string at the position above is as follows : Thomas\n"
     ]
    }
   ],
   "source": [
    "string = \"Hello, I'm Thomas.\"\n",
    "print(f\"This is the sentence entered : {string}\")\n",
    "\n",
    "required_string = \"Thomas\" #Please change to Thomas\n",
    "print(f\"This is the string required in the above sentence : {required_string}\")\n",
    "\n",
    "required_string_position = string.find(required_string)\n",
    "print(f\"The string required is at the following position : {required_string_position}\")\n",
    "\n",
    "string_at_position = string[required_string_position:required_string_position+len(required_string)]\n",
    "\n",
    "\n",
    "if required_string_position == -1:\n",
    "    print(f\"The required string, {required_string}, is not to be found in the above sentence : \\n{string}\")\n",
    "else:\n",
    "    print(f\"The required string, {required_string}, is to be found in the above sentence :\\n{string}\")\n",
    "    print(f\"The required string, {required_string}, is to be found in the following position in the above sentence : {required_string_position}.\")    \n",
    "    print(f\"The string at the position above is as follows : {string_at_position}\")"
   ]
  },
  {
   "cell_type": "markdown",
   "id": "12403529",
   "metadata": {},
   "source": [
    "### 7.Count the total number of characters in a string."
   ]
  },
  {
   "cell_type": "code",
   "execution_count": 7,
   "id": "4c5dbdc6",
   "metadata": {},
   "outputs": [
    {
     "name": "stdout",
     "output_type": "stream",
     "text": [
      "This is the sentence entered : Hello, I'm Thomas.\n",
      "This is the length of the sentence entered : 18\n"
     ]
    }
   ],
   "source": [
    "string = \"Hello, I'm Thomas.\"\n",
    "print(f\"This is the sentence entered : {string}\")\n",
    "\n",
    "character_count = len(string)\n",
    "print(f\"This is the length of the sentence entered : {character_count}\")\n"
   ]
  },
  {
   "cell_type": "markdown",
   "id": "d1ec9db9",
   "metadata": {},
   "source": [
    "### 8.Split a string on a specific character."
   ]
  },
  {
   "cell_type": "code",
   "execution_count": 8,
   "id": "4fdfbe68",
   "metadata": {},
   "outputs": [
    {
     "name": "stdout",
     "output_type": "stream",
     "text": [
      "This is the sentence entered : Hello, I'm Thomas.\n",
      "This is the sentence split based on the use of the character, ' ' :\n",
      "['Hello,', \"I'm\", 'Thomas.']\n",
      "This is the sentence split based on the use of the character, 'o' :\n",
      "['Hell', \", I'm Th\", 'mas.']\n"
     ]
    }
   ],
   "source": [
    "string = \"Hello, I'm Thomas.\"\n",
    "print(f\"This is the sentence entered : {string}\")\n",
    "\n",
    "character_1 = \" \"\n",
    "string1 = string.split(character_1)\n",
    "print(f\"This is the sentence split based on the use of the character, '{character_1}' :\\n{string1}\")\n",
    "\n",
    "character_2 = \"o\"\n",
    "string2 = string.split(character_2)\n",
    "print(f\"This is the sentence split based on the use of the character, '{character_2}' :\\n{string2}\")\n"
   ]
  },
  {
   "cell_type": "markdown",
   "id": "b88d591b",
   "metadata": {},
   "source": [
    "### 9.Remove vowels from a string."
   ]
  },
  {
   "cell_type": "code",
   "execution_count": 9,
   "id": "9835f1d7",
   "metadata": {},
   "outputs": [
    {
     "name": "stdout",
     "output_type": "stream",
     "text": [
      "This is the sentence entered : Hello, I'm Thomas.\n",
      "The following is the above string without any vowels :\n",
      "Hll, I'm Thms.\n"
     ]
    }
   ],
   "source": [
    "string = \"Hello, I'm Thomas.\"\n",
    "print(f\"This is the sentence entered : {string}\")\n",
    "\n",
    "vowel_list = ['a','e','i','o','u']\n",
    "string_list = list(string)\n",
    "\n",
    "for character in string_list:\n",
    "    if character in vowel_list:\n",
    "        string_list.remove(character)\n",
    "    joined_string = \"\".join(string_list)\n",
    "        \n",
    "print(f\"The following is the above string without any vowels :\\n{joined_string}\")"
   ]
  },
  {
   "cell_type": "markdown",
   "id": "b9ad6b11",
   "metadata": {},
   "source": [
    "### 10.Write a program to split a given string on hyphens and display each substring. mma-is-a-data-scientist"
   ]
  },
  {
   "cell_type": "code",
   "execution_count": 10,
   "id": "d26d2aa0",
   "metadata": {},
   "outputs": [
    {
     "name": "stdout",
     "output_type": "stream",
     "text": [
      "This is the sentence entered : mma-is-a-data-scientist\n",
      "This is the sentence split on the hyphens : ['mma', 'is', 'a', 'data', 'scientist']\n"
     ]
    }
   ],
   "source": [
    "string = \"mma-is-a-data-scientist\"\n",
    "print(f\"This is the sentence entered : {string}\")\n",
    "\n",
    "split_string = string.split(\"-\")\n",
    "print(f\"This is the sentence split on the hyphens : {split_string}\")"
   ]
  },
  {
   "cell_type": "markdown",
   "id": "cd4df6cc",
   "metadata": {},
   "source": [
    "### 11.Given a list of numbers. write a program to turn every item of a list into its square."
   ]
  },
  {
   "cell_type": "code",
   "execution_count": 11,
   "id": "296c6775",
   "metadata": {},
   "outputs": [
    {
     "name": "stdout",
     "output_type": "stream",
     "text": [
      "This is the numbers list entered :\n",
      "[1, 2, 3, 4, 5, 6, 7, 8]\n",
      "This is the number list after each element is squared entered :\n",
      "[1, 4, 9, 16, 25, 36, 49, 64]\n"
     ]
    }
   ],
   "source": [
    "numbers_list = [1,2,3,4,5,6,7,8]\n",
    "print(f\"This is the numbers list entered :\\n{numbers_list}\")\n",
    "\n",
    "squared_numbers_list = []\n",
    "\n",
    "for number in numbers_list:\n",
    "    squared_numbers_list.append(number**2)\n",
    "    \n",
    "print(f\"This is the number list after each element is squared entered :\\n{squared_numbers_list}\")"
   ]
  },
  {
   "cell_type": "markdown",
   "id": "d3a4afe2",
   "metadata": {},
   "source": [
    "### 12.Calculate the sum of all numbers from 1 to a given number"
   ]
  },
  {
   "cell_type": "code",
   "execution_count": 12,
   "id": "a92c8a78",
   "metadata": {},
   "outputs": [
    {
     "name": "stdout",
     "output_type": "stream",
     "text": [
      "Please enter an integer to find the sum of, start from 1 onward : 55\n",
      "This is the number entered : 55\n",
      "This is the sum of all the numbers from 1 to 55 : 1540\n"
     ]
    }
   ],
   "source": [
    "given_number = int(input(\"Please enter an integer to find the sum of, start from 1 onward : \"))\n",
    "print(f\"This is the number entered : {given_number}\")\n",
    "\n",
    "sum1 = 0\n",
    "\n",
    "for num in range(1,given_number + 1):\n",
    "    sum1 = sum1 + num\n",
    "\n",
    "print(f\"This is the sum of all the numbers from 1 to {given_number} : {sum1}\")"
   ]
  },
  {
   "cell_type": "markdown",
   "id": "25f5373e",
   "metadata": {},
   "source": [
    "### 13.Python program to split a string and  join it using different delimiter"
   ]
  },
  {
   "cell_type": "code",
   "execution_count": 13,
   "id": "2ceb51db",
   "metadata": {},
   "outputs": [
    {
     "name": "stdout",
     "output_type": "stream",
     "text": [
      "This is the sentence entered : Hel#lo,# I'm# Tho#mas.\n",
      "This is the sentence split on the following character '#' :\n",
      "['Hel', 'lo,', \" I'm\", ' Tho', 'mas.']\n",
      "This is the sentence joined on the following character '' :\n",
      "Hello, I'm Thomas.\n"
     ]
    }
   ],
   "source": [
    "string = \"Hel#lo,# I'm# Tho#mas.\"\n",
    "print(f\"This is the sentence entered : {string}\")\n",
    "\n",
    "split_character = \"#\"\n",
    "\n",
    "split_string = string.split(split_character)\n",
    "print(f\"This is the sentence split on the following character '{split_character}' :\\n{split_string}\")\n",
    "\n",
    "joined_character = \"\"\n",
    "\n",
    "string_join = joined_character.join(split_string)\n",
    "print(f\"This is the sentence joined on the following character '{joined_character}' :\\n{string_join}\")\n",
    "\n",
    "\n"
   ]
  },
  {
   "cell_type": "markdown",
   "id": "d97bc802",
   "metadata": {},
   "source": [
    "### 14.Python program to find smallest number in a list"
   ]
  },
  {
   "cell_type": "code",
   "execution_count": 14,
   "id": "034cfa9b",
   "metadata": {},
   "outputs": [
    {
     "name": "stdout",
     "output_type": "stream",
     "text": [
      "This is the numeric list entered : [4, 1, 8, 3, 7, 5, 2, 6]\n",
      "This is the smallest number in the above numbers' list : 1\n"
     ]
    }
   ],
   "source": [
    "numbers_list = [4, 1, 8, 3, 7, 5, 2, 6]\n",
    "print(f\"This is the numeric list entered : {numbers_list}\")\n",
    "\n",
    "smallest = numbers_list[0]\n",
    "\n",
    "for number in numbers_list:\n",
    "    if number < smallest:\n",
    "        smallest = number\n",
    "\n",
    "print(f\"This is the smallest number in the above numbers' list : {smallest}\")   "
   ]
  },
  {
   "cell_type": "markdown",
   "id": "c0ca1938",
   "metadata": {},
   "source": [
    "### 15.Python program to print even numbers in a list"
   ]
  },
  {
   "cell_type": "code",
   "execution_count": 15,
   "id": "844af941",
   "metadata": {},
   "outputs": [
    {
     "name": "stdout",
     "output_type": "stream",
     "text": [
      "This is the numeric list entered : [4, 1, 8, 3, 7, 5, 2, 6]\n",
      "The following number, 4, is even.\n",
      "The following number, 8, is even.\n",
      "The following number, 2, is even.\n",
      "The following number, 6, is even.\n"
     ]
    }
   ],
   "source": [
    "numbers_list = [4, 1, 8, 3, 7, 5, 2, 6]\n",
    "print(f\"This is the numeric list entered : {numbers_list}\")\n",
    "\n",
    "for number in numbers_list:\n",
    "    if number % 2 == 0:\n",
    "        print(f\"The following number, {number}, is even.\")"
   ]
  },
  {
   "cell_type": "markdown",
   "id": "dd480e3a",
   "metadata": {},
   "source": [
    "### 16.Python program to print negative numbers in a list"
   ]
  },
  {
   "cell_type": "code",
   "execution_count": 16,
   "id": "5d94c8b1",
   "metadata": {},
   "outputs": [
    {
     "name": "stdout",
     "output_type": "stream",
     "text": [
      "This is the numeric list entered : [4, 1, -8, -3, -7, 5, 2, -6]\n",
      "The following number, -8, is less than 0.\n",
      "The following number, -3, is less than 0.\n",
      "The following number, -7, is less than 0.\n",
      "The following number, -6, is less than 0.\n"
     ]
    }
   ],
   "source": [
    "numbers_list = [4, 1, -8, -3, -7, 5, 2, -6]\n",
    "print(f\"This is the numeric list entered : {numbers_list}\")\n",
    "\n",
    "for number in numbers_list:\n",
    "    if number < 0:\n",
    "        print(f\"The following number, {number}, is less than 0.\")"
   ]
  }
 ],
 "metadata": {
  "kernelspec": {
   "display_name": "Python 3 (ipykernel)",
   "language": "python",
   "name": "python3"
  },
  "language_info": {
   "codemirror_mode": {
    "name": "ipython",
    "version": 3
   },
   "file_extension": ".py",
   "mimetype": "text/x-python",
   "name": "python",
   "nbconvert_exporter": "python",
   "pygments_lexer": "ipython3",
   "version": "3.10.11"
  }
 },
 "nbformat": 4,
 "nbformat_minor": 5
}
