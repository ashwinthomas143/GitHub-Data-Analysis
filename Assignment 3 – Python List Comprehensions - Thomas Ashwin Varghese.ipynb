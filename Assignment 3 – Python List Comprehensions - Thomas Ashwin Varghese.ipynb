{
 "cells": [
  {
   "cell_type": "markdown",
   "id": "54430228",
   "metadata": {},
   "source": [
    "# Assignment 3 – Python List Comprehensions - Thomas Ashwin Varghese"
   ]
  },
  {
   "cell_type": "markdown",
   "id": "bcc62df3",
   "metadata": {},
   "source": [
    "### 1.Write a function named odd_or_zero which takes one parameter, a number, and returns that number if it is odd or returns 0 if the number is even. Then using a list comprehension which iterates over a list and calls your odd or zero function for each value."
   ]
  },
  {
   "cell_type": "code",
   "execution_count": 1,
   "id": "c527acff",
   "metadata": {},
   "outputs": [
    {
     "name": "stdout",
     "output_type": "stream",
     "text": [
      "The number list provided : [1, 2, 3, 4, 5, 6]\n",
      "A function named odd_or_zero which takes one parameter, a number, \n",
      "and returns that number if it is odd or returns 0 if the number is even, was created.\n",
      "When running the function over the list, the following is the result : \n",
      "1\n",
      "0\n",
      "3\n",
      "0\n",
      "5\n",
      "0\n"
     ]
    }
   ],
   "source": [
    "def odd_or_zero(number):\n",
    "    return 0 if number % 2 == 0 else number\n",
    "\n",
    "number_list = [1,2,3,4,5,6]\n",
    "print(f\"The number list provided : {number_list}\")\n",
    "\n",
    "print(\"A function named odd_or_zero which takes one parameter, a number, \\nand returns that number if it is odd or returns 0 if the number is even, was created.\")\n",
    "\n",
    "print(\"When running the function over the list, the following is the result : \")\n",
    "\n",
    "for number in number_list:\n",
    "    print(odd_or_zero(number))"
   ]
  },
  {
   "cell_type": "markdown",
   "id": "933c6002",
   "metadata": {},
   "source": [
    "### 2.Write a list comprehension that builds a list containing only even numbers over 100."
   ]
  },
  {
   "cell_type": "code",
   "execution_count": 2,
   "id": "fc431753",
   "metadata": {},
   "outputs": [
    {
     "name": "stdout",
     "output_type": "stream",
     "text": [
      "The following is a list comprehension to build a list that contains even numbers over 100 : \n",
      "[102, 104, 106, 108, 110, 112, 114, 116, 118, 120, 122, 124, 126, 128, 130, 132, 134, 136, 138, 140, 142, 144, 146, 148, 150, 152, 154, 156, 158, 160, 162, 164, 166, 168, 170, 172, 174, 176, 178, 180, 182, 184, 186, 188, 190, 192, 194, 196, 198, 200]\n"
     ]
    }
   ],
   "source": [
    "print(\"The following is a list comprehension to build a list that contains even numbers over 100 : \")\n",
    "numbers_list = [number for number in range(0,201) if number % 2 ==0 and number > 100]\n",
    "print(numbers_list)"
   ]
  },
  {
   "cell_type": "markdown",
   "id": "7d65c1be",
   "metadata": {},
   "source": [
    "### 3.Use list comprehension to make a list of the first letter of each word in the following list: wordList = [\"this\", \"is\", \"an\", \"example\"]"
   ]
  },
  {
   "cell_type": "code",
   "execution_count": 3,
   "id": "4dd66187",
   "metadata": {},
   "outputs": [
    {
     "name": "stdout",
     "output_type": "stream",
     "text": [
      "The following is a word list :\n",
      "['this', 'is', 'an', 'example'] \n",
      "The following is a list comprehension to build a list of the first characters of the word list into a new list :\n",
      "['t', 'i', 'a', 'e'] \n"
     ]
    }
   ],
   "source": [
    "wordList = [\"this\", \"is\", \"an\", \"example\"]\n",
    "\n",
    "print(f\"The following is a word list :\\n{wordList} \")\n",
    "\n",
    "\n",
    "new_list = [word[0] for word in wordList]\n",
    "print(f\"The following is a list comprehension to build a list of the first characters of the word list into a new list :\\n{new_list} \")\n"
   ]
  },
  {
   "cell_type": "markdown",
   "id": "9e6bc73c",
   "metadata": {},
   "source": [
    "### 4.Write a list comprehension that returns the list [\"1**2=1\", \"2**2=4\", \"3**2=9\", ...., \"25**2=625\"]"
   ]
  },
  {
   "cell_type": "code",
   "execution_count": 4,
   "id": "4c1395fb",
   "metadata": {},
   "outputs": [
    {
     "name": "stdout",
     "output_type": "stream",
     "text": [
      "The following is the list comprehension that returns a list of squares :\n",
      "1 ** 2 = 1\n",
      "2 ** 2 = 4\n",
      "3 ** 2 = 9\n",
      "4 ** 2 = 16\n",
      "5 ** 2 = 25\n",
      "6 ** 2 = 36\n",
      "7 ** 2 = 49\n",
      "8 ** 2 = 64\n",
      "9 ** 2 = 81\n",
      "10 ** 2 = 100\n",
      "11 ** 2 = 121\n",
      "12 ** 2 = 144\n",
      "13 ** 2 = 169\n",
      "14 ** 2 = 196\n",
      "15 ** 2 = 225\n",
      "16 ** 2 = 256\n",
      "17 ** 2 = 289\n",
      "18 ** 2 = 324\n",
      "19 ** 2 = 361\n",
      "20 ** 2 = 400\n",
      "21 ** 2 = 441\n",
      "22 ** 2 = 484\n",
      "23 ** 2 = 529\n",
      "24 ** 2 = 576\n",
      "25 ** 2 = 625\n",
      "\n"
     ]
    }
   ],
   "source": [
    "square_list = [f'{number} ** 2 = {number ** 2}\\n' for number in range(1,26) ]\n",
    "formatted_list = ''.join(square_list)\n",
    "print(f\"The following is the list comprehension that returns a list of squares :\\n{formatted_list}\")\n"
   ]
  },
  {
   "cell_type": "markdown",
   "id": "9080e714",
   "metadata": {},
   "source": [
    "### 5.Consider a list of full names formatted \"Firstname Lastname\", like [\"Jules Verne\", \"Alexandre Dumas\", \"Maurice Druon\"]. Write a list comprehension that produces a list with the full names in the format \"Lastname, Firstname\". The resulting list should look like ['Verne, Jules', 'Dumas, Alexandre', 'Druon, Maurice']"
   ]
  },
  {
   "cell_type": "code",
   "execution_count": 5,
   "id": "2ef38fbb",
   "metadata": {},
   "outputs": [
    {
     "name": "stdout",
     "output_type": "stream",
     "text": [
      "The full name list is :\n",
      "['Jules Verne', 'Alexandre Dumas', 'Maurice Druon']\n",
      "The split name list is :\n",
      "[['Jules', 'Verne'], ['Alexandre', 'Dumas'], ['Maurice', 'Druon']]\n",
      "The list with last name first and first name last, is :\n",
      "['Verne,Jules', 'Dumas,Alexandre', 'Druon,Maurice']\n"
     ]
    }
   ],
   "source": [
    "full_name = [\"Jules Verne\", \"Alexandre Dumas\", \"Maurice Druon\"]\n",
    "print(f\"The full name list is :\\n{full_name}\")\n",
    "\n",
    "split_list = [name.split(\" \") for name in full_name]\n",
    "print(f\"The split name list is :\\n{split_list}\")\n",
    "\n",
    "lastname_firstname = [f\"{name[1]},{name[0]}\" for name in split_list ]\n",
    "print(f\"The list with last name first and first name last, is :\\n{lastname_firstname}\")\n",
    "\n"
   ]
  },
  {
   "cell_type": "markdown",
   "id": "d796a54e",
   "metadata": {},
   "source": [
    "### 6.Consider a list below. Each sublist contains three pieces of information about the library patrons at Saskatoon Public Library (SPL) - patron's name, the number of books they have borrowed throughout the last year, and a Boolean value indicating whether they are under 20.\n",
    "### SPL_Patrons = [\n",
    "### ['Kim Tremblay', 134, True],\n",
    "### ['Emily Wilson', 42, False],\n",
    "### ['Jessica Smith', 215, True],\n",
    "### ['Alex Roy', 151, True],\n",
    "### ['Sarah Khan', 105, False],\n",
    "### ['Samuel Lee', 220, True],\n",
    "### ['William Brown', 24, False],\n",
    "### ['Ayesha Qureshi', 199, True],\n",
    "### ['David Martin', 56, True],\n",
    "### ['Ajeet Patel',69, False]\n",
    "### ]\n",
    "### (a)\tUse a single list comprehension to create a list of the patron names who borrowed more than 100 books last year.\n",
    "### (b)\tUse a single list comprehension to create a list of the patron names who are not under 20.\n",
    "### (c)\tSuppose that a patron saves on average 11.95 dollars by borrowing a book instead of buying it. Use a single list comprehension to create a list of the amount saved for each patron.\n",
    "### (d)\tUse a single list comprehension to create a list of lists where each sub-list consists of a patron's name and the total amount he/she saved last year as in part (c)), but only include those patrons who are under 20."
   ]
  },
  {
   "cell_type": "code",
   "execution_count": 6,
   "id": "454bbc14",
   "metadata": {},
   "outputs": [
    {
     "name": "stdout",
     "output_type": "stream",
     "text": [
      "The following is the patrons list :\n",
      "[['Kim Tremblay', 134, True], ['Emily Wilson', 42, False], ['Jessica Smith', 215, True], ['Alex Roy', 151, True], ['Sarah Khan', 105, False], ['Samuel Lee', 220, True], ['William Brown', 24, False], ['Ayesha Qureshi', 199, True], ['David Martin', 56, True], ['Ajeet Patel', 69, False]]\n",
      " \n",
      "The following is a list of the patron names who have borrowed over 20 books :\n",
      "['Emily Wilson', 42, False]\n",
      "['Sarah Khan', 105, False]\n",
      "['William Brown', 24, False]\n",
      "['Ajeet Patel', 69, False]\n",
      " \n",
      "The following is a list of the amount saved for each patron, assuming 11.95 per book :\n",
      "Kim Tremblay saved 1601.3 dollars.\n",
      "Emily Wilson saved 501.9 dollars.\n",
      "Jessica Smith saved 2569.25 dollars.\n",
      "Alex Roy saved 1804.45 dollars.\n",
      "Sarah Khan saved 1254.75 dollars.\n",
      "Samuel Lee saved 2629.0 dollars.\n",
      "William Brown saved 286.8 dollars.\n",
      "Ayesha Qureshi saved 2378.05 dollars.\n",
      "David Martin saved 669.2 dollars.\n",
      "Ajeet Patel saved 824.55 dollars.\n",
      " \n",
      "The following is a list of the amount saved for each patron, assuming 11.95 per book and the books they borrowed were under twenty :\n",
      "Patron name : Kim Tremblay , Amount saved : 1601.3 dollars.\n",
      "Patron name : Jessica Smith , Amount saved : 2569.25 dollars.\n",
      "Patron name : Alex Roy , Amount saved : 1804.45 dollars.\n",
      "Patron name : Samuel Lee , Amount saved : 2629.0 dollars.\n",
      "Patron name : Ayesha Qureshi , Amount saved : 2378.05 dollars.\n",
      "Patron name : David Martin , Amount saved : 669.2 dollars.\n"
     ]
    }
   ],
   "source": [
    "SPL_Patrons = [\n",
    "['Kim Tremblay', 134, True],\n",
    "['Emily Wilson', 42, False],\n",
    "['Jessica Smith', 215, True],\n",
    "['Alex Roy', 151, True],\n",
    "['Sarah Khan', 105, False],\n",
    "['Samuel Lee', 220, True],\n",
    "['William Brown', 24, False],\n",
    "['Ayesha Qureshi', 199, True],\n",
    "['David Martin', 56, True],\n",
    "['Ajeet Patel',69, False]\n",
    "]\n",
    "\n",
    "print(f\"The following is the patrons list :\\n{SPL_Patrons}\")\n",
    "\n",
    "borrowed_100_or_more = [entry for entry in SPL_Patrons if entry[1] > 100]\n",
    "borrowed_100_or_more1 = \"\\n\".join([str(entry) for entry in borrowed_100_or_more])\n",
    "print(\" \")\n",
    "\n",
    "over_twenty = [entry for entry in SPL_Patrons if entry[2] == False]\n",
    "over_twenty1 = \"\\n\".join([str(entry) for entry in over_twenty])\n",
    "print(f\"The following is a list of the patron names who have borrowed over 20 books :\\n{over_twenty1}\")\n",
    "print(\" \")\n",
    "\n",
    "amount_saved = [f\"{entry[0]} saved {round((entry[1] * 11.95),2)} dollars.\" for entry in SPL_Patrons]\n",
    "amount_saved1 = \"\\n\".join([str(entry) for entry in amount_saved])\n",
    "print(f\"The following is a list of the amount saved for each patron, assuming 11.95 per book :\\n{amount_saved1}\")\n",
    "print(\" \")\n",
    "\n",
    "amount_saved_by_frequent_book_returners = [f\"Patron name : {entry[0]} , Amount saved : {round((entry[1] * 11.95),2)} dollars.\" for entry in SPL_Patrons if entry[2] == True]\n",
    "amount_saved_by_frequent_book_returners1 = \"\\n\".join([str(entry) for entry in amount_saved_by_frequent_book_returners])\n",
    "print(f\"The following is a list of the amount saved for each patron, assuming 11.95 per book and the books they borrowed were under twenty :\\n{amount_saved_by_frequent_book_returners1}\")\n"
   ]
  },
  {
   "cell_type": "markdown",
   "id": "c5d5d8ad",
   "metadata": {},
   "source": [
    "### 7.A string is given:msg = \"happy birthday!\"Write a list comprehension that prints a list ['h', 'a', 'p', 'p', 'y', 'b', 'i', 'r', 't', 'h', 'd', 'a', 'y']. Do not print out the space or the !."
   ]
  },
  {
   "cell_type": "code",
   "execution_count": 7,
   "id": "88e934be",
   "metadata": {},
   "outputs": [
    {
     "name": "stdout",
     "output_type": "stream",
     "text": [
      "The message entered :\n",
      "happy birthday!\n",
      "The message list without space or ! :\n",
      "['h', 'a', 'p', 'p', 'y', 'b', 'i', 'r', 't', 'h', 'd', 'a', 'y']\n"
     ]
    }
   ],
   "source": [
    "msg = \"happy birthday!\"\n",
    "print(f\"The message entered :\\n{msg}\")\n",
    "\n",
    "msg_list = [character for character in msg if character != \" \" and character != \"!\"]\n",
    "print(f\"The message list without space or ! :\\n{msg_list}\")\n"
   ]
  },
  {
   "cell_type": "markdown",
   "id": "32263e83",
   "metadata": {},
   "source": [
    "### 8.Write a Python program to triple all numbers in a given list of integers. Use Python map."
   ]
  },
  {
   "cell_type": "code",
   "execution_count": 8,
   "id": "4f0c581f",
   "metadata": {},
   "outputs": [
    {
     "name": "stdout",
     "output_type": "stream",
     "text": [
      "The numbers list :\n",
      "[1, 2, 3, 4, 5, 6, 7, 9, 10]\n",
      "The numbers list when each number is tripled :\n",
      "[3, 6, 9, 12, 15, 18, 21, 27, 30]\n"
     ]
    }
   ],
   "source": [
    "numbers = [1,2,3,4,5,6,7,9,10]\n",
    "print(f\"The numbers list :\\n{numbers}\")\n",
    "\n",
    "triple_numbers = list(map(lambda x : x *3,numbers))\n",
    "print(f\"The numbers list when each number is tripled :\\n{triple_numbers}\")"
   ]
  },
  {
   "cell_type": "markdown",
   "id": "a0b0c3f9",
   "metadata": {},
   "source": [
    "### 9.Write a Python program to add three given lists using Python map and lambda."
   ]
  },
  {
   "cell_type": "code",
   "execution_count": 9,
   "id": "c2aac1be",
   "metadata": {},
   "outputs": [
    {
     "name": "stdout",
     "output_type": "stream",
     "text": [
      "The following is the first list :\n",
      "[1, 2, 3, 4, 5]\n",
      "The following is the second list :\n",
      "[6, 7, 8, 9, 10]\n",
      "The following is the third list :\n",
      "[11, 12, 13, 14, 15]\n",
      "The following is the resultant list, which comprises the addition of the first 3 lists :\n",
      "[18, 21, 24, 27, 30]\n"
     ]
    }
   ],
   "source": [
    "list1 = [1,2,3,4,5]\n",
    "print(f\"The following is the first list :\\n{list1}\")\n",
    "list2 = [6,7,8,9,10]\n",
    "print(f\"The following is the second list :\\n{list2}\")\n",
    "list3 = [11,12,13,14,15]\n",
    "print(f\"The following is the third list :\\n{list3}\")\n",
    "\n",
    "\n",
    "result_list = list(map(lambda x,y,z:x+y+z,list1,list2,list3))\n",
    "print(f\"The following is the resultant list, which comprises the addition of the first 3 lists :\\n{result_list}\")\n"
   ]
  },
  {
   "cell_type": "markdown",
   "id": "e3c33a14",
   "metadata": {},
   "source": [
    "### 10.Write a Python program to add two given lists and find the difference between them. Use the map() function."
   ]
  },
  {
   "cell_type": "code",
   "execution_count": 10,
   "id": "024bb1bc",
   "metadata": {},
   "outputs": [
    {
     "name": "stdout",
     "output_type": "stream",
     "text": [
      "The following is the first list :\n",
      "[1, 2, 3, 4, 5]\n",
      "The following is the second list :\n",
      "[6, 7, 8, 9, 10]\n",
      "The following is the resultant list, which comprises the addition of the first 2 lists :\n",
      "[7, 9, 11, 13, 15]\n",
      "The following is the resultant list, which comprises the subtraction of the first 2 lists :\n",
      "[-5, -5, -5, -5, -5]\n"
     ]
    }
   ],
   "source": [
    "list1 = [1,2,3,4,5]\n",
    "print(f\"The following is the first list :\\n{list1}\")\n",
    "list2 = [6,7,8,9,10]\n",
    "print(f\"The following is the second list :\\n{list2}\")\n",
    "\n",
    "add_result_list = list(map(lambda x,y:x+y,list1,list2))\n",
    "print(f\"The following is the resultant list, which comprises the addition of the first 2 lists :\\n{add_result_list}\")\n",
    "\n",
    "sub_result_list = list(map(lambda x,y:x-y,list1,list2))\n",
    "print(f\"The following is the resultant list, which comprises the subtraction of the first 2 lists :\\n{sub_result_list}\")\n"
   ]
  },
  {
   "cell_type": "markdown",
   "id": "4d5bf0c1",
   "metadata": {},
   "source": [
    "### 11.Write a Python program to create a new list taking specific elements from a tuple and convert a string value to an integer.\n",
    "### student_data  = [('Alberto Franco','15/05/2002','35kg'), ('Gino Mcneill','17/05/2002','37kg'), ('Ryan Parkes','16/02/1999', '39kg'), ('Eesha Hinton','25/09/1998', '35kg')]\n",
    "\n",
    "### Output should be like:\n",
    "### Student name:\n",
    "### ['Alberto Franco', 'Gino Mcneill', 'Ryan Parkes', 'Eesha Hinton']\n",
    "### Student name:\n",
    "### ['15/05/2002', '17/05/2002', '16/02/1999', '25/09/1998']\n",
    "### Student weight:\n",
    "### [35, 37, 39, 35]"
   ]
  },
  {
   "cell_type": "code",
   "execution_count": 11,
   "id": "e9c87217",
   "metadata": {},
   "outputs": [
    {
     "name": "stdout",
     "output_type": "stream",
     "text": [
      "Student data :\n",
      "[('Alberto Franco', '15/05/2002', '35kg'), ('Gino Mcneill', '17/05/2002', '37kg'), ('Ryan Parkes', '16/02/1999', '39kg'), ('Eesha Hinton', '25/09/1998', '35kg')]\n",
      "Student name :\n",
      "['Alberto Franco', 'Gino Mcneill', 'Ryan Parkes', 'Eesha Hinton']\n",
      "Student DOB :\n",
      "['15/05/2002', '17/05/2002', '16/02/1999', '25/09/1998']\n",
      "Student weight :\n",
      "['35', '37', '39', '35']\n"
     ]
    }
   ],
   "source": [
    "student_data = [('Alberto Franco', '15/05/2002', '35kg'),\n",
    "                ('Gino Mcneill', '17/05/2002', '37kg'),\n",
    "                ('Ryan Parkes', '16/02/1999', '39kg'),\n",
    "                ('Eesha Hinton', '25/09/1998', '35kg')]\n",
    "\n",
    "print(f\"Student data :\\n{student_data}\")\n",
    "\n",
    "student_name = [name[0] for name in student_data]\n",
    "print(f\"Student name :\\n{student_name}\")\n",
    "\n",
    "date = [name[1] for name in student_data]\n",
    "print(f\"Student DOB :\\n{date}\")\n",
    "\n",
    "weight = [name[2][:2] for name in student_data]\n",
    "print(f\"Student weight :\\n{weight}\")\n"
   ]
  },
  {
   "cell_type": "markdown",
   "id": "69a25896",
   "metadata": {},
   "source": [
    "### 12.Convert the list to float and int [\"12.3\", \"3.3\", \"-15.2\"]"
   ]
  },
  {
   "cell_type": "code",
   "execution_count": 12,
   "id": "1d5eeec9-2672-4d79-bd2e-b37cd6a8d665",
   "metadata": {},
   "outputs": [
    {
     "name": "stdout",
     "output_type": "stream",
     "text": [
      "The following is the given number list :\n",
      "['12.3', '3.3', '-15.2']\n",
      "The following is the given number list converted to integer form :\n",
      "[12, 3, -15]\n",
      "The following is the given number list converted to float form :\n",
      "[12.3, 3.3, -15.2]\n"
     ]
    }
   ],
   "source": [
    "number_list = [\"12.3\", \"3.3\", \"-15.2\"]\n",
    "print(f\"The following is the given number list :\\n{number_list}\")\n",
    "\n",
    "int_list = [int(float(number)) for number in number_list]\n",
    "print(f\"The following is the given number list converted to integer form :\\n{int_list}\")\n",
    "\n",
    "float_list = [float(number) for number in number_list]\n",
    "print(f\"The following is the given number list converted to float form :\\n{float_list}\")\n"
   ]
  }
 ],
 "metadata": {
  "kernelspec": {
   "display_name": "Python 3 (ipykernel)",
   "language": "python",
   "name": "python3"
  },
  "language_info": {
   "codemirror_mode": {
    "name": "ipython",
    "version": 3
   },
   "file_extension": ".py",
   "mimetype": "text/x-python",
   "name": "python",
   "nbconvert_exporter": "python",
   "pygments_lexer": "ipython3",
   "version": "3.10.11"
  }
 },
 "nbformat": 4,
 "nbformat_minor": 5
}
