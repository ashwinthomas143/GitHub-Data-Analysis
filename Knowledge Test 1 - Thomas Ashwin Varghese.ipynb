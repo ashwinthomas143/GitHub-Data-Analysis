{
 "cells": [
  {
   "cell_type": "markdown",
   "id": "f01c5627",
   "metadata": {},
   "source": [
    "# <center>Knowledge Test 1</center>"
   ]
  },
  {
   "cell_type": "markdown",
   "id": "ec4c03cf",
   "metadata": {},
   "source": [
    "## <center>Prepared by : Thomas Ashwin Varghese</center>"
   ]
  },
  {
   "cell_type": "markdown",
   "id": "29c610bb",
   "metadata": {},
   "source": [
    "1.Input = ['Paul', 'Jane', 'Sandra', 'Gemma', 'Hannah', 'Anne']\n",
    "\n",
    "Output = ['Anne', 'Hannah', 'Gemma', 'Sandra', 'Jane', 'Paul']"
   ]
  },
  {
   "cell_type": "code",
   "execution_count": 1,
   "id": "de531955",
   "metadata": {},
   "outputs": [
    {
     "name": "stdout",
     "output_type": "stream",
     "text": [
      "Input List = ['Paul', 'Jane', 'Sandra', 'Gemma', 'Hannah', 'Anne']\n",
      "Output List = ['Anne', 'Gemma', 'Hannah', 'Jane', 'Paul', 'Sandra']\n"
     ]
    }
   ],
   "source": [
    "inputlist = ['Paul', 'Jane', 'Sandra', 'Gemma', 'Hannah', 'Anne']\n",
    "outputlist = inputlist.copy()\n",
    "outputlist.sort(reverse = False)\n",
    "\n",
    "print(f\"Input List = {inputlist}\")\n",
    "print(f\"Output List = {outputlist}\")"
   ]
  },
  {
   "cell_type": "markdown",
   "id": "ad502fa0",
   "metadata": {},
   "source": [
    "2.Input = ‘natalie’\n",
    "\n",
    "Output = ‘eilatan’"
   ]
  },
  {
   "cell_type": "code",
   "execution_count": 2,
   "id": "27b513c9",
   "metadata": {},
   "outputs": [
    {
     "name": "stdout",
     "output_type": "stream",
     "text": [
      "Input = natalie\n",
      "Output = eilatan\n"
     ]
    }
   ],
   "source": [
    "inputstring = \"natalie\"\n",
    "reversestring = inputstring[::-1]\n",
    "print(f\"Input = {inputstring}\")\n",
    "print(f\"Output = {reversestring}\")"
   ]
  },
  {
   "cell_type": "markdown",
   "id": "cd001a95",
   "metadata": {},
   "source": [
    "3.Input = <b>Gfg</b> is <b>Best</b>. I love <b>Reading CS</b> from it.\n",
    "\n",
    "Output = ['Gfg', 'Best', 'Reading CS']"
   ]
  },
  {
   "cell_type": "code",
   "execution_count": 3,
   "id": "1ccf9205",
   "metadata": {},
   "outputs": [
    {
     "name": "stdout",
     "output_type": "stream",
     "text": [
      "Input = <b>Gfg</b> is <b>Best</b>. I love <b>Reading CS</b> from it.\n",
      "Output = ['Gfg', 'Best', 'Reading CS']\n"
     ]
    }
   ],
   "source": [
    "inputsentence = \"<b>Gfg</b> is <b>Best</b>. I love <b>Reading CS</b> from it.\"\n",
    "newsentence = inputsentence.split(\"<b>\")\n",
    "newsentence = ' '.join(newsentence)\n",
    "\n",
    "newersentence = newsentence.split(\"</b>\")\n",
    "newersentence = ' '.join(newersentence)\n",
    "\n",
    "newestsentence = newersentence.split(\" \")\n",
    "newestsentence\n",
    "\n",
    "for word in newestsentence:\n",
    "    if word == \"\":\n",
    "        newestsentence.remove(word)\n",
    "newestsentence\n",
    "\n",
    "string1 = newestsentence[0]\n",
    "\n",
    "string2 = newestsentence[2]\n",
    "\n",
    "string3 = newestsentence[6] + \" \" + newestsentence[7]\n",
    "\n",
    "final_output = []\n",
    "\n",
    "final_output.append(string1)\n",
    "final_output.append(string2)\n",
    "final_output.append(string3)\n",
    "final_output\n",
    "\n",
    "print(f\"Input = {inputsentence}\")\n",
    "print(f\"Output = {final_output}\")\n",
    "\n",
    "    "
   ]
  },
  {
   "cell_type": "markdown",
   "id": "16d6baba",
   "metadata": {},
   "source": [
    "4.Find the number of vowels in the text = 'Learning a new thing everyday.'"
   ]
  },
  {
   "cell_type": "code",
   "execution_count": 4,
   "id": "8eff1968",
   "metadata": {},
   "outputs": [
    {
     "name": "stdout",
     "output_type": "stream",
     "text": [
      "The sentence is as follows : Learning a new thing everyday.\n",
      "The vowel count for the above sentence is 9.\n"
     ]
    }
   ],
   "source": [
    "newtext = 'Learning a new thing everyday.'\n",
    "vowelcount = 0\n",
    "\n",
    "character_list = [\"a\",\"e\",\"i\",\"o\",\"u\"]\n",
    "for character in newtext:\n",
    "    if character.lower() in character_list:\n",
    "        vowelcount = vowelcount + 1\n",
    "print(f\"The sentence is as follows : {newtext}\")\n",
    "print(f\"The vowel count for the above sentence is {vowelcount}.\")"
   ]
  },
  {
   "cell_type": "markdown",
   "id": "b7de3f83",
   "metadata": {},
   "source": [
    "5.Count unique values inside a list \n",
    "input_list = [7, 8, 8, 5, 8, 4, 4, 8,5,5,5,6]"
   ]
  },
  {
   "cell_type": "code",
   "execution_count": 5,
   "id": "011c41ea",
   "metadata": {},
   "outputs": [
    {
     "name": "stdout",
     "output_type": "stream",
     "text": [
      "The input list : [7, 8, 8, 5, 8, 4, 4, 8, 5, 5, 5, 6]\n",
      "The unique value count in the above list : 5\n",
      "The unique numbers in the above list : {4, 5, 6, 7, 8}\n"
     ]
    }
   ],
   "source": [
    "input_list = [7, 8, 8, 5, 8, 4, 4, 8,5,5,5,6]\n",
    "input_set_list = set(input_list)\n",
    "print(f\"The input list : {input_list}\")\n",
    "#len(input_set_list)\n",
    "print(f\"The unique value count in the above list : {len(input_set_list)}\")\n",
    "print(f\"The unique numbers in the above list : {input_set_list}\")"
   ]
  },
  {
   "cell_type": "markdown",
   "id": "ead6ba6a",
   "metadata": {},
   "source": [
    "6.Find all 3-digit numbers using the numbers 3, 8 and 5"
   ]
  },
  {
   "cell_type": "code",
   "execution_count": 6,
   "id": "83647be4",
   "metadata": {},
   "outputs": [
    {
     "name": "stdout",
     "output_type": "stream",
     "text": [
      "Please input the first single digit number : 5\n",
      "Please input the second single digit number : 56\n",
      "Please input the third single digit number : 567\n",
      "\n",
      "The numbers given by the user were 5, 56 and 567.\n",
      "\n",
      "The list of possible combinations of the 3 user given single digits are as follows :\n",
      "[555, 606, 1117, 1065, 1116, 1627, 6175, 6226, 6737, 5655, 5706, 6217, 6165, 6216, 6727, 11275, 11326, 11837, 56755, 56806, 57317, 57265, 57316, 57827, 62375, 62426, 62937].\n"
     ]
    }
   ],
   "source": [
    "a = int(input(\"Please input the first single digit number : \")) #please input 3 or any other single digit\n",
    "b = int(input(\"Please input the second single digit number : \")) #please input 5 or any other single digit\n",
    "c = int(input(\"Please input the third single digit number : \")) #please input 8 or any other single digit\n",
    "\n",
    "new_numberlist = []\n",
    "\n",
    "111 \n",
    "n1 = a*100+a*10+a\n",
    "new_numberlist.append(n1)\n",
    "\n",
    "112\n",
    "n2 = a*100+a*10+b\n",
    "new_numberlist.append(n2)\n",
    "\n",
    "113\n",
    "n3 = a*100+a*10+c\n",
    "new_numberlist.append(n3)\n",
    "\n",
    "121\n",
    "n4 = a*100+b*10+a\n",
    "new_numberlist.append(n4)\n",
    "\n",
    "122\n",
    "n5 = a*100+b*10+b\n",
    "new_numberlist.append(n5)\n",
    "\n",
    "123\n",
    "n6 = a*100+b*10+c\n",
    "new_numberlist.append(n6)\n",
    "\n",
    "131\n",
    "n7 = a*100+c*10+a\n",
    "new_numberlist.append(n7)\n",
    "\n",
    "132\n",
    "n8 = a*100+c*10+b\n",
    "new_numberlist.append(n8)\n",
    "\n",
    "133\n",
    "n9 = a*100+c*10+c\n",
    "new_numberlist.append(n9)\n",
    "new_numberlist\n",
    "\n",
    "211\n",
    "n10 = b*100+a*10+a\n",
    "new_numberlist.append(n10)\n",
    "\n",
    "212\n",
    "n11 = b*100+a*10+b\n",
    "new_numberlist.append(n11)\n",
    "\n",
    "213\n",
    "n12 = b*100+a*10+c\n",
    "new_numberlist.append(n12)\n",
    "\n",
    "221\n",
    "n13 = b*100+b*10+a\n",
    "new_numberlist.append(n13)\n",
    "\n",
    "222\n",
    "n14 = b*100+b*10+b\n",
    "new_numberlist.append(n14)\n",
    "\n",
    "223\n",
    "n15 = b*100+b*10+c\n",
    "new_numberlist.append(n15)\n",
    "\n",
    "231\n",
    "n16 = b*100+c*10+a\n",
    "new_numberlist.append(n16)\n",
    "\n",
    "232\n",
    "n17 = b*100+c*10+b\n",
    "new_numberlist.append(n17)\n",
    "\n",
    "233\n",
    "n18 = b*100+c*10+c\n",
    "new_numberlist.append(n18)\n",
    "\n",
    "311\n",
    "n19 = c*100+a*10+a\n",
    "new_numberlist.append(n19)\n",
    "\n",
    "312\n",
    "n20 = c*100+a*10+b\n",
    "new_numberlist.append(n20)\n",
    "\n",
    "313\n",
    "n21 = c*100+a*10+c\n",
    "new_numberlist.append(n21)\n",
    "\n",
    "321\n",
    "n22 = c*100+b*10+a\n",
    "new_numberlist.append(n22)\n",
    "\n",
    "322\n",
    "n23 = c*100+b*10+b\n",
    "new_numberlist.append(n23)\n",
    "\n",
    "323\n",
    "n24 = c*100+b*10+c\n",
    "new_numberlist.append(n24)\n",
    "\n",
    "331\n",
    "n25 = c*100+c*10+a\n",
    "new_numberlist.append(n25)\n",
    "\n",
    "332\n",
    "n26 = c*100+c*10+b\n",
    "new_numberlist.append(n26)\n",
    "\n",
    "333\n",
    "n27 = c*100+c*10+c\n",
    "new_numberlist.append(n27)\n",
    "\n",
    "print(f\"\\nThe numbers given by the user were {a}, {b} and {c}.\")\n",
    "print(f\"\\nThe list of possible combinations of the 3 user given single digits are as follows :\\n{new_numberlist}.\")"
   ]
  }
 ],
 "metadata": {
  "kernelspec": {
   "display_name": "Python 3 (ipykernel)",
   "language": "python",
   "name": "python3"
  },
  "language_info": {
   "codemirror_mode": {
    "name": "ipython",
    "version": 3
   },
   "file_extension": ".py",
   "mimetype": "text/x-python",
   "name": "python",
   "nbconvert_exporter": "python",
   "pygments_lexer": "ipython3",
   "version": "3.10.11"
  }
 },
 "nbformat": 4,
 "nbformat_minor": 5
}
