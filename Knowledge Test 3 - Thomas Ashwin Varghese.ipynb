{
 "cells": [
  {
   "cell_type": "markdown",
   "id": "887cb51c",
   "metadata": {},
   "source": [
    "# <center>Knowledge Test 3</center>"
   ]
  },
  {
   "cell_type": "markdown",
   "id": "9a5104ef",
   "metadata": {},
   "source": [
    "## <center>Prepared by : Thomas Ashwin Varghese</center>"
   ]
  },
  {
   "cell_type": "code",
   "execution_count": 1,
   "id": "d2a9d80f",
   "metadata": {},
   "outputs": [],
   "source": [
    "from functools import reduce # for problem 4"
   ]
  },
  {
   "cell_type": "markdown",
   "id": "fbd3b6a0",
   "metadata": {},
   "source": [
    "1.Filter out all odd numbers using filter() and lambda function. The list is [5, 7, 22, 97, 54, 62, 77, 23, 73, 61]"
   ]
  },
  {
   "cell_type": "code",
   "execution_count": 2,
   "id": "a84c31d1",
   "metadata": {},
   "outputs": [
    {
     "name": "stdout",
     "output_type": "stream",
     "text": [
      "The original number list : [5, 7, 22, 97, 54, 62, 77, 23, 73, 61]\n",
      "\n",
      "Printing the odd numbers from the list by iterating over the odd_list:\n",
      "5\n",
      "7\n",
      "97\n",
      "77\n",
      "23\n",
      "73\n",
      "61\n",
      "\n",
      "Printing the odd numbers from the list by converting filter to list and then printing list:\n",
      "[5, 7, 97, 77, 23, 73, 61]\n"
     ]
    }
   ],
   "source": [
    "#Given below is the number list\n",
    "number_list = [5, 7, 22, 97, 54, 62, 77, 23, 73, 61]\n",
    "print(\"The original number list :\",number_list)\n",
    "\n",
    "print()\n",
    "\n",
    "#Given below is the odd list.\n",
    "#The lambda function is created as a filter and the number list is send through it.\n",
    "odd_list = filter(lambda x: x%2 != 0,number_list)\n",
    "\n",
    "#Two ways to print : \n",
    "# a) Iterate over filter\n",
    "print(\"Printing the odd numbers from the list by iterating over the odd_list:\")\n",
    "for number in odd_list:\n",
    "    print(number)\n",
    "\n",
    "print()\n",
    "    \n",
    "#b) Convert the odd_list object to list and print it\n",
    "\n",
    "#Note: \n",
    "#Once the filter function is iterated over, it returns an empty list.\n",
    "#For this reason, the code is run again.\n",
    "\n",
    "odd_list = filter(lambda x: x%2 != 0,number_list)\n",
    "odd_list = list(odd_list)\n",
    "\n",
    "print(\"Printing the odd numbers from the list by converting filter to list and then printing list:\")\n",
    "print(odd_list)"
   ]
  },
  {
   "cell_type": "markdown",
   "id": "174d1a40",
   "metadata": {},
   "source": [
    "2.Filter all people aged more than 18, using lambda and filter() function\n",
    "ages = [13, 90, 17, 59, 21, 60, 5]"
   ]
  },
  {
   "cell_type": "code",
   "execution_count": 3,
   "id": "c8d3c4d3",
   "metadata": {},
   "outputs": [
    {
     "name": "stdout",
     "output_type": "stream",
     "text": [
      "The original age list : [13, 90, 17, 59, 21, 60, 5]\n",
      "\n",
      "Printing the age numbers that are 18 and up,from the list by iterating over the above_18_list:\n",
      "90\n",
      "59\n",
      "21\n",
      "60\n",
      "\n",
      "Printing the odd numbers from the list by converting filter to list and then printing list:\n",
      "[13, 17, 59, 21, 5]\n"
     ]
    }
   ],
   "source": [
    "# Given below is the ages list\n",
    "ages = [13, 90, 17, 59, 21, 60, 5]\n",
    "print(\"The original age list :\", ages)\n",
    "\n",
    "print()\n",
    "\n",
    "# Given below is the odd list.\n",
    "# The lambda function is created as a filter and the number list is send through it.\n",
    "above_18_list = filter(lambda x: x > 18, ages)\n",
    "\n",
    "# Two ways to print :\n",
    "# a) Iterate over filter\n",
    "print(\"Printing the age numbers that are 18 and up,from the list by iterating over the above_18_list:\")\n",
    "for number in above_18_list:\n",
    "    print(number)\n",
    "\n",
    "print()\n",
    "\n",
    "# b) Convert the above_18_list object to list and print it\n",
    "\n",
    "# Note:\n",
    "# Once the filter function is iterated over, it returns an empty list.\n",
    "# For this reason, the code is run again.\n",
    "\n",
    "above_18_list = filter(lambda x: x % 2 != 0, ages)\n",
    "above_18_list = list(above_18_list)\n",
    "\n",
    "print(\"Printing the odd numbers from the list by converting filter to list and then printing list:\")\n",
    "print(above_18_list)"
   ]
  },
  {
   "cell_type": "markdown",
   "id": "4c9ee203",
   "metadata": {},
   "source": [
    "3.Multiply all elements of a list by 2 using lambda and map()"
   ]
  },
  {
   "cell_type": "code",
   "execution_count": 4,
   "id": "9725978e",
   "metadata": {},
   "outputs": [
    {
     "name": "stdout",
     "output_type": "stream",
     "text": [
      "The following is the user list : [1, 2, 3, 4, 'hello', 'how', 'are you?']\n",
      "\n",
      "Printing the list element in user list after multiplying it twice,from the list by iterating over the multiply_by_two:\n",
      "2\n",
      "4\n",
      "6\n",
      "8\n",
      "hellohello\n",
      "howhow\n",
      "are you?are you?\n",
      "\n",
      "Printing the odd numbers from the list by converting map to list and then printing list:\n",
      "[2, 4, 6, 8, 'hellohello', 'howhow', 'are you?are you?']\n"
     ]
    }
   ],
   "source": [
    "user_list = [1,2,3,4,\"hello\",\"how\",\"are you?\"]\n",
    "print('The following is the user list :',user_list)\n",
    "\n",
    "print()\n",
    "\n",
    "multiply_by_two = map(lambda x : x* 2,user_list)\n",
    "# Two ways to print :\n",
    "# a) Iterate over filter\n",
    "print(\"Printing the list element in user list after multiplying it twice,from the list by iterating over the multiply_by_two:\")\n",
    "for item in multiply_by_two:\n",
    "    print(item)\n",
    "\n",
    "print()\n",
    "\n",
    "# b) Convert the multiply_by_two object to list and print it\n",
    "\n",
    "multiply_by_two = list(map(lambda x : x* 2,user_list))\n",
    "\n",
    "print(\"Printing the odd numbers from the list by converting map to list and then printing list:\")\n",
    "print(multiply_by_two)"
   ]
  },
  {
   "cell_type": "markdown",
   "id": "64e6f215",
   "metadata": {},
   "source": [
    "4.The sum of all elements in a list using lambda and reduce()"
   ]
  },
  {
   "cell_type": "code",
   "execution_count": 5,
   "id": "675dc698",
   "metadata": {},
   "outputs": [
    {
     "name": "stdout",
     "output_type": "stream",
     "text": [
      "The following is the user list : [1, 2, 3, 4, 'hello', 'how', 'are you?']\n",
      "\n",
      "The following is the numeric values list, which is a subset of the user list : [1, 2, 3, 4]\n",
      "\n",
      "The following is the numeric sum of the values stored in numeric_values list : 10\n"
     ]
    }
   ],
   "source": [
    "#Note : Imported the reduce function at the start of the notebook \n",
    "user_list = [1,2,3,4,\"hello\",\"how\",\"are you?\"]\n",
    "print('The following is the user list :',user_list)\n",
    "\n",
    "print()\n",
    "\n",
    "#The below list is to filter numeric values from the user list.\n",
    "numeric_values = []\n",
    "\n",
    "#If the item in user list is of float or integer type, it gets appended to the numeric values list.\n",
    "for item in user_list:\n",
    "    if (type(item) == float) or (type(item) == int):\n",
    "        numeric_values.append(item)\n",
    "        \n",
    "print('The following is the numeric values list, which is a subset of the user list :',numeric_values)\n",
    "\n",
    "print()\n",
    "\n",
    "#The numeric sum is deduced using the lambda function to add two values, x and y.\n",
    "#This is run over the list numeric_values and reduced to a single number, using the number function\n",
    "numeric_sum = reduce(lambda x, y: x + y, numeric_values)\n",
    "\n",
    "print('The following is the numeric sum of the values stored in numeric_values list :',numeric_sum)"
   ]
  },
  {
   "cell_type": "markdown",
   "id": "44f7391d",
   "metadata": {},
   "source": [
    "5.Find the maximum element in a list using lambda and reduce()"
   ]
  },
  {
   "cell_type": "code",
   "execution_count": 8,
   "id": "29ba5b1d",
   "metadata": {},
   "outputs": [
    {
     "name": "stdout",
     "output_type": "stream",
     "text": [
      "The following is the user list : [1, 2, 3, 4, 'hello', 'how', 'are you?']\n",
      "\n",
      "The following is the numeric values list, which is a subset of the user list : [1, 2, 3, 4]\n",
      "\n",
      "The following is the largest number from the above numeric values list : 4\n"
     ]
    }
   ],
   "source": [
    "#Note : Imported the reduce function at the start of the notebook \n",
    "user_list = [1,2,3,4,\"hello\",\"how\",\"are you?\"]\n",
    "print('The following is the user list :',user_list)\n",
    "\n",
    "print()\n",
    "\n",
    "#The below list is to filter numeric values from the user list.\n",
    "numeric_values = []\n",
    "\n",
    "#If the item in user list is of float or integer type, it gets appended to the numeric values list.\n",
    "for item in user_list:\n",
    "    if (type(item) == float) or (type(item) == int):\n",
    "        numeric_values.append(item)\n",
    "        \n",
    "print('The following is the numeric values list, which is a subset of the user list :',numeric_values)\n",
    "\n",
    "print()\n",
    "\n",
    "#The following lambda returns x if x is greater than y and y is y is greater than x.\n",
    "#Regardless of x or y returned on the first iteration, the returned value becomes the new x.\n",
    "#This new x is compared with the new y which is the next item on the list.\n",
    "largest = reduce(lambda x,y: x if x> y else y , numeric_values)\n",
    "\n",
    "print('The following is the largest number from the above numeric values list :',largest)"
   ]
  },
  {
   "cell_type": "markdown",
   "id": "26ae2848",
   "metadata": {},
   "source": [
    "6.Write a program that reads the sentence and gives the output as the length of each word in a sentence in the form of a list.\n",
    "\n",
    "sentence = 'I am learning Python programming with BusyQA'"
   ]
  },
  {
   "cell_type": "code",
   "execution_count": 16,
   "id": "870f43d0",
   "metadata": {},
   "outputs": [
    {
     "name": "stdout",
     "output_type": "stream",
     "text": [
      "The following is the sentence : I am learning Python programming with BusyQA\n",
      "\n",
      "The following is the list of words from the sentence above : ['I', 'am', 'learning', 'Python', 'programming', 'with', 'BusyQA']\n",
      "\n",
      "The following is the length of the list of words from the sentence above, given in the form of a list : [1, 2, 8, 6, 11, 4, 6]\n"
     ]
    }
   ],
   "source": [
    "sentence = 'I am learning Python programming with BusyQA'\n",
    "print('The following is the sentence :',sentence)\n",
    "print()\n",
    "\n",
    "#Splitting the sentence based on the space character and making it into a list\n",
    "word_list = sentence.split()\n",
    "\n",
    "print('The following is the list of words from the sentence above :', word_list)\n",
    "print()\n",
    "\n",
    "#Creating a new empty list to store the sizes of each of the words\n",
    "word_length_list = []\n",
    "\n",
    "#Storing the sizes of each of the words of the sentence\n",
    "for word in word_list:\n",
    "    word_length_list.append(len(word))\n",
    "\n",
    "print('The following is the length of the list of words from the sentence above, given in the form of a list :', word_length_list)"
   ]
  },
  {
   "cell_type": "markdown",
   "id": "acd45d7f",
   "metadata": {},
   "source": [
    "7.Create a list of tuples with combined name,roll_no and marks\n",
    "\n",
    "name = [\"Manjeet\", \"Nikhil\", \"Shambhavi\"]\n",
    "\n",
    "roll_no = [4, 1, 3]\n",
    "\n",
    "marks = [40, 50, 60]"
   ]
  },
  {
   "cell_type": "code",
   "execution_count": null,
   "id": "5ef321af",
   "metadata": {},
   "outputs": [],
   "source": []
  },
  {
   "cell_type": "markdown",
   "id": "8228a59c",
   "metadata": {},
   "source": [
    "8.Create a dictionary from the above 3 iterables."
   ]
  },
  {
   "cell_type": "code",
   "execution_count": null,
   "id": "fe096e7c",
   "metadata": {},
   "outputs": [],
   "source": []
  },
  {
   "cell_type": "code",
   "execution_count": null,
   "id": "8c6c5ddf",
   "metadata": {},
   "outputs": [],
   "source": []
  },
  {
   "cell_type": "code",
   "execution_count": null,
   "id": "fccb9cdc",
   "metadata": {},
   "outputs": [],
   "source": []
  }
 ],
 "metadata": {
  "kernelspec": {
   "display_name": "Python 3 (ipykernel)",
   "language": "python",
   "name": "python3"
  },
  "language_info": {
   "codemirror_mode": {
    "name": "ipython",
    "version": 3
   },
   "file_extension": ".py",
   "mimetype": "text/x-python",
   "name": "python",
   "nbconvert_exporter": "python",
   "pygments_lexer": "ipython3",
   "version": "3.10.11"
  }
 },
 "nbformat": 4,
 "nbformat_minor": 5
}
